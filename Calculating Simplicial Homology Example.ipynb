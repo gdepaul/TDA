{
 "cells": [
  {
   "cell_type": "code",
   "execution_count": 2,
   "id": "b174f902",
   "metadata": {},
   "outputs": [],
   "source": [
    "S = SimplicialComplex([[0,1], [1,2], [0,2]]) # circle"
   ]
  },
  {
   "cell_type": "code",
   "execution_count": 3,
   "id": "c8d83d66",
   "metadata": {},
   "outputs": [
    {
     "data": {
      "text/plain": [
       "Simplicial complex with vertex set (0, 1, 2) and facets {(0, 1), (0, 2), (1, 2)}"
      ]
     },
     "execution_count": 3,
     "metadata": {},
     "output_type": "execute_result"
    }
   ],
   "source": [
    "S"
   ]
  },
  {
   "cell_type": "code",
   "execution_count": 4,
   "id": "7e0368fc",
   "metadata": {},
   "outputs": [],
   "source": [
    "T = S.product(S)  # torus"
   ]
  },
  {
   "cell_type": "code",
   "execution_count": 5,
   "id": "a0d48e2c",
   "metadata": {},
   "outputs": [
    {
     "data": {
      "text/plain": [
       "Simplicial complex with 9 vertices and 18 facets"
      ]
     },
     "execution_count": 5,
     "metadata": {},
     "output_type": "execute_result"
    }
   ],
   "source": [
    "T"
   ]
  },
  {
   "cell_type": "code",
   "execution_count": 6,
   "id": "a03a01c0",
   "metadata": {},
   "outputs": [
    {
     "data": {
      "text/plain": [
       "{0: 0, 1: Z x Z, 2: Z}"
      ]
     },
     "execution_count": 6,
     "metadata": {},
     "output_type": "execute_result"
    }
   ],
   "source": [
    "T.homology() "
   ]
  },
  {
   "cell_type": "code",
   "execution_count": 7,
   "id": "10230108",
   "metadata": {},
   "outputs": [
    {
     "data": {
      "text/plain": [
       "0"
      ]
     },
     "execution_count": 7,
     "metadata": {},
     "output_type": "execute_result"
    }
   ],
   "source": [
    "T.euler_characteristic()"
   ]
  },
  {
   "cell_type": "code",
   "execution_count": null,
   "id": "6b2da6bc",
   "metadata": {},
   "outputs": [],
   "source": []
  }
 ],
 "metadata": {
  "kernelspec": {
   "display_name": "SageMath 9.4",
   "language": "sage",
   "name": "sagemath"
  },
  "language_info": {
   "codemirror_mode": {
    "name": "ipython",
    "version": 3
   },
   "file_extension": ".py",
   "mimetype": "text/x-python",
   "name": "python",
   "nbconvert_exporter": "python",
   "pygments_lexer": "ipython3",
   "version": "3.9.7"
  }
 },
 "nbformat": 4,
 "nbformat_minor": 5
}
