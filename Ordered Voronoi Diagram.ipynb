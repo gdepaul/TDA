{
 "cells": [
  {
   "cell_type": "code",
   "execution_count": 1,
   "id": "f651b088",
   "metadata": {},
   "outputs": [
    {
     "data": {
      "text/plain": [
       "<Figure size 640x480 with 0 Axes>"
      ]
     },
     "execution_count": 1,
     "metadata": {},
     "output_type": "execute_result"
    },
    {
     "data": {
      "text/plain": [
       "<Figure size 640x480 with 0 Axes>"
      ]
     },
     "metadata": {},
     "output_type": "display_data"
    }
   ],
   "source": [
    "from sklearn.cluster import KMeans\n",
    "import random\n",
    "from sklearn.datasets import make_blobs\n",
    "import numpy as np\n",
    "import matplotlib.pyplot as plt \n",
    "from matplotlib.pyplot import figure\n",
    "\n",
    "figure(figsize=(8, 6), dpi=80)"
   ]
  },
  {
   "cell_type": "code",
   "execution_count": 2,
   "id": "78cb4c4b",
   "metadata": {},
   "outputs": [
    {
     "data": {
      "text/plain": [
       "KMeans(n_clusters=5)"
      ]
     },
     "execution_count": 2,
     "metadata": {},
     "output_type": "execute_result"
    }
   ],
   "source": [
    "X, y_true = make_blobs(n_samples=300, centers=3,\n",
    "                       cluster_std=1.1, random_state=0)\n",
    "kmeans = KMeans(n_clusters=5)\n",
    "kmeans.fit(X)"
   ]
  },
  {
   "cell_type": "code",
   "execution_count": 9,
   "id": "2ed95041",
   "metadata": {},
   "outputs": [],
   "source": [
    "def ordered_voronoi_diagram(X,landmark_points,order):\n",
    "    # Step size of the mesh. Decrease to increase the quality of the VQ.\n",
    "    h = .02     # point in the mesh [x_min, x_max]x[y_min, y_max].\n",
    "\n",
    "    # Plot the decision boundary. For that, we will assign a color to each\n",
    "    x_min, x_max = X[:, 0].min() - 1, X[:, 0].max() + 1\n",
    "    y_min, y_max = X[:, 1].min() - 1, X[:, 1].max() + 1\n",
    "    xx, yy = np.meshgrid(np.arange(x_min, x_max, h), np.arange(y_min, y_max, h))\n",
    "\n",
    "    # Obtain labels for each point in mesh. Use last trained model.\n",
    "    Z = []\n",
    "    for i in range(len(xx)):\n",
    "        row_labels = []\n",
    "        for j in range(len(xx[0])):\n",
    "            distances = []\n",
    "            for q in landmark_points:\n",
    "                distances.append(math.dist((xx[i,j],yy[i,j]), q))\n",
    "\n",
    "            my_indices = np.argsort(distances)\n",
    "\n",
    "            label = 0;\n",
    "            for k in range(order):\n",
    "                label = 10*label + my_indices[k]\n",
    "\n",
    "            row_labels.append(label)\n",
    "        Z.append(row_labels)\n",
    "        \n",
    "    Z = np.array(Z)\n",
    "        \n",
    "    values = list(set(list(Z.ravel())))\n",
    "    new_values = range(len(values))\n",
    "    \n",
    "    res = {values[i]: new_values[i] for i in range(len(values))}\n",
    "    for i in range(len(Z)):\n",
    "        for j in range(len(Z[0])):\n",
    "            Z[i,j] = res[Z[i,j]]\n",
    "    \n",
    "\n",
    "    # Put the result into a color plot\n",
    "    Z = Z.reshape(xx.shape)\n",
    "    plt.figure(figsize=(8, 6), dpi=80)\n",
    "    plt.clf()\n",
    "    plt.imshow(Z, interpolation='nearest',\n",
    "           extent=(xx.min(), xx.max(), yy.min(), yy.max()),\n",
    "           cmap='tab20',\n",
    "           aspect='auto', origin='lower')\n",
    "\n",
    "    plt.plot(X[:, 0], X[:, 1], 'k.', markersize=2)\n",
    "    # Plot the centroids as a white X\n",
    "    centroids = landmark_points\n",
    "    plt.scatter(centroids[:, 0], centroids[:, 1],\n",
    "            marker='x', s=169, linewidths=3,\n",
    "            color='w', zorder=10)\n",
    "    plt.xlim(x_min, x_max)\n",
    "    plt.ylim(y_min, y_max)\n",
    "    plt.xticks(())\n",
    "    plt.yticks(())\n",
    "    plt.show()"
   ]
  },
  {
   "cell_type": "code",
   "execution_count": 10,
   "id": "b68b6c2d",
   "metadata": {},
   "outputs": [
    {
     "data": {
      "image/png": "[encoded data removed]",
      "text/plain": [
       "<Figure size 640x480 with 1 Axes>"
      ]
     },
     "metadata": {},
     "output_type": "display_data"
    }
   ],
   "source": [
    "ordered_voronoi_diagram(X,kmeans.cluster_centers_,2)"
   ]
  },
  {
   "cell_type": "code",
   "execution_count": null,
   "id": "e575d04f",
   "metadata": {},
   "outputs": [],
   "source": []
  }
 ],
 "metadata": {
  "kernelspec": {
   "display_name": "SageMath 9.4",
   "language": "sage",
   "name": "sagemath"
  },
  "language_info": {
   "codemirror_mode": {
    "name": "ipython",
    "version": 3
   },
   "file_extension": ".py",
   "mimetype": "text/x-python",
   "name": "python",
   "nbconvert_exporter": "python",
   "pygments_lexer": "ipython3",
   "version": "3.9.7"
  }
 },
 "nbformat": 4,
 "nbformat_minor": 5
}
